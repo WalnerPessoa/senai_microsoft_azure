{
  "metadata": {
    "kernelspec": {
      "display_name": "Python 3",
      "language": "python",
      "name": "python3"
    },
    "language_info": {
      "mimetype": "text/x-python",
      "nbconvert_exporter": "python",
      "name": "python",
      "pygments_lexer": "ipython3",
      "version": "3.5.4",
      "file_extension": ".py",
      "codemirror_mode": {
        "version": 3,
        "name": "ipython"
      }
    }
  },
  "nbformat_minor": 2,
  "nbformat": 4,
  "cells": [
    {
      "cell_type": "markdown",
      "source": "Module 4, Lab 2 - Validity\n==========================\n\nIn this lab, we build on the previous lab to validate our measure of\nconsumer sentiment. In the previous lab, we found that we could make a\nreliable, one-factor measure that we think represents consumer\nsentiment. However, we did not show that the measure was actually\nmeasuring sentiment. In this lab, we discuss the concept of measurement\nvalidity--ensuring that the measure actually captures what it claims to.\n\nThere is no sure-fire way to ensure that a measure is valid. However,\nthere are some things we can consider.\n\n___\nMódulo 4, Laboratório 2 - Validade¶\n===\nNeste laboratório, nos baseamos no laboratório anterior para validar nossa medida de sentimento do consumidor. No laboratório anterior, descobrimos que poderíamos fazer uma medida confiável de um fator que achamos que representa o sentimento do consumidor. No entanto, não mostramos que a medida estava realmente medindo o sentimento. Neste laboratório, discutimos o conceito de validade da medição - garantindo que a medida realmente capture o que afirma.\n\nNão há uma maneira infalível de garantir que uma medida seja válida. No entanto, existem algumas coisas que podemos considerar.\n___\n\n1.  **Face validity:** does the measure look valid, at face level? This is\n    subjective, but it is important. For example, in the previous lab,\n    we captured people's feelings about a taco brand with reported\n    rating on four adjectives: \"inviting,\" \"friendly,\" \"awesome,\" and\n    \"pleasant.\" We asked people to rate how well each adjective\n    describes the brand on a 1-10 scale. We can think through whether\n    these seem like they would be capturing sentiment. Clearly, a person\n    who rates a brand highly on \"awesome\" feels positive toward the\n    brand, right? Well, we can think through this a bit more. What other\n    reasons might a person respond positively on that question? Might\n    they just be an enthusiastic person? Perhaps someone who wants to\n    make a good impression or feels social pressure from the survey to\n    give a positive response? Next, we might consider whether those\n    issues would be shared among all the adjectives. Indeed, it seems\n    possible. There are still some other issues we might consider. For\n    example, do people really know and have the ability to report their\n    attitudes and feelings toward a brand accurately? Might something\n    else such as an analysis of their natural language be better? In\n    short, this measure *looks* face valid, but can also conceive of\n    some potential threats to its validity. We then would have to ask\n    whether those issues are big enough to warrant not using it.\n\n2.  **Content validity:** does the measure have the appropriate breadth?\n    With this set of adjectives, we might consider other words that\n    should be included, or we might consider removing some that don't\n    belong. This is also subjective. Indeed, in the last lab we were\n    considering discarding \"quirky\" before the data analysis came in.\n\n3.  **Criterion validity:** does the variable correlate in ways that a good\n    measure should? This is the \"data-driven\" option, but it is not\n    without issues as well. For example, it presumes that you have\n    picked a good set of outcomes to correlate it with and that those\n    are also measured validly. Still, assuming you are collecting data,\n    it doesn't hurt to collect a little bit more or to check this in the\n    data that you have collected.\n___\n\n1. **Validade facial:** a medida parece válida, ao nível do rosto? Isso é subjetivo, mas é importante. Por exemplo, no laboratório anterior, capturamos os sentimentos das pessoas sobre uma marca de taco com classificação relatada em quatro adjetivos: \"convidativo\", \"amigável\", \"incrível\" e \"agradável\". Pedimos às pessoas que avaliassem quão bem cada adjetivo descreve a marca em uma escala de 1 a 10. Podemos pensar se estes parecem estar capturando sentimentos. Claramente, uma pessoa que avalia uma marca altamente em \"incrível\" se sente positiva em relação à marca, certo? Bem, podemos pensar um pouco mais sobre isso. Que outras razões uma pessoa pode responder positivamente a essa pergunta? Eles podem ser apenas uma pessoa entusiasmada? Talvez alguém que deseja causar uma boa impressão ou sente a pressão social da pesquisa para dar uma resposta positiva? A seguir, podemos considerar se essas questões seriam compartilhadas entre todos os adjetivos. Na verdade, parece possível. Ainda existem algumas outras questões que podemos considerar. Por exemplo, as pessoas realmente sabem e têm a capacidade de relatar com precisão suas atitudes e sentimentos em relação a uma marca? Poderia algo mais, como uma análise de sua linguagem natural, ser melhor? Em suma, esta medida parece válida, mas também pode conceber algumas ameaças potenciais à sua validade. Teríamos então que perguntar se essas questões são grandes o suficiente para justificar não usá-lo.\n\n2. **Validade de conteúdo:** a medida tem a amplitude adequada? Com este conjunto de adjetivos, podemos considerar outras palavras que devem ser incluídas, ou podemos considerar a remoção de algumas que não pertencem. Isso também é subjetivo. Na verdade, no último laboratório, estávamos considerando descartar \"peculiar\" antes da análise de dados chegar.\n\n3. **Validade de critério:** a variável se correlaciona de maneiras que uma boa medida deveria? Esta é a opção \"orientada por dados\", mas também apresenta problemas. Por exemplo, presume que você escolheu um bom conjunto de resultados para correlacioná-lo e que esses também são medidos de forma válida. Ainda assim, supondo que você esteja coletando dados, não custa coletar um pouco mais ou verificar isso nos dados que você coletou.\n\n___\n\n\n\nIn this lab, I briefly demonstrate **criteiron validity** by checking\ncorrelations among measures.\n\nLoad Data\n=========\n\nIn this lab, I use a slightly different measure of sentiment but a\nsimilar research design. A research team has a new sentiment measure,\nand they wish to know if it is criterion valid. To validate it, they\nhave assembled data on the number of positive words used to describe a\nproduct (word count, or `WC`), the rating of a product using a standard\nrating system (`rating`), and the anticipated likelihood of purchase\n(`purchase`). The data are in the github folder for this lab:\n\n___\nNeste laboratório, demonstro brevemente a validade do criteiron, verificando as correlações entre as medidas.\n\nCarregar dados\n==\nNeste laboratório, uso uma medida de sentimento ligeiramente diferente, mas um projeto de pesquisa semelhante. Uma equipe de pesquisa tem uma nova medida de sentimento e deseja saber se é um critério válido. Para validá-lo, eles reuniram dados sobre o número de palavras positivas usadas para descrever um produto (contagem de palavras ou WC), a classificação de um produto usando um sistema de classificação padrão (classificação) e a probabilidade de compra prevista (compra) . Os dados estão na pasta github deste laboratório:",
      "metadata": {}
    },
    {
      "cell_type": "code",
      "source": "#### LOAD DATA ####\nimport pandas as pd\ndat = pd.read_csv(\"datasets/validity.csv\", index_col = 'Unnamed: 0')",
      "metadata": {
        "trusted": true
      },
      "execution_count": 1,
      "outputs": []
    },
    {
      "cell_type": "markdown",
      "source": "We can briefly check the data. Notice there is an id variable called `X`\nas well.\n___\nPodemos verificar os dados brevemente. Observe que há uma variável de id chamada X também.",
      "metadata": {}
    },
    {
      "cell_type": "code",
      "source": "print(dat.dtypes)\n\ndat.head()",
      "metadata": {},
      "execution_count": null,
      "outputs": []
    },
    {
      "cell_type": "markdown",
      "source": "Is the sentiment measure criterion valid? We can test this by simply\nassessing correlations.\n___\nO critério de medida de sentimento é válido? Podemos testar isso simplesmente avaliando as correlações.",
      "metadata": {}
    },
    {
      "cell_type": "code",
      "source": "#correlations\ncorr_mat = dat.corr().round(2)\ncorr_mat",
      "metadata": {},
      "execution_count": null,
      "outputs": []
    },
    {
      "cell_type": "markdown",
      "source": "We see here that the sentiment variable correlates at .30 with word\ncount, .69 with a product rating, and .55 with purchase likelihood. We\nalso see that those correlations are larger than they are between the\nother measures (e.g., the `rating` variable is not correlating more\nstrongly with the other variables).\n\nWe can easily compute the confidence intervals of these correlation coefficients. However, this requires a few steps which we first encountered in the Association lab:   \n1. Transform the correlation from the initial space which we call r to a transformed space z. The distribution of errors is Normal in this transformed space. \n2. Compute the CI in the transformed space.\n3. Transform back to the original space.\n___\nVemos aqui que a variável de sentimento se correlaciona em 0,30 com a palavra\ncontagem, 0,69 com uma classificação de produto e 0,55 com probabilidade de compra. Nós\ntambém veja que essas correlações são maiores do que entre os\noutras medidas (por exemplo, a variável `rating` não está mais correlacionada\nfortemente com as outras variáveis).\n\nPodemos calcular facilmente os intervalos de confiança desses coeficientes de correlação. No entanto, isso requer algumas etapas que encontramos pela primeira vez no laboratório de associação:\n1. Transforme a correlação do espaço inicial que chamamos de r em um espaço transformado z. A distribuição de erros é Normal neste espaço transformado.\n2. Calcule o IC no espaço transformado.\n3. Transforme-se de volta ao espaço original.",
      "metadata": {}
    },
    {
      "cell_type": "code",
      "source": "import numpy as np\nimport scipy.stats as ss\nimport math\n\ndef r_z(r):\n    return math.log((1 + r) / (1 - r)) / 2.0\n\ndef z_r(z):\n    e = math.exp(2 * z)\n    return((e - 1) / (e + 1))\n\ndef r_conf_int(r, alpha, n):\n    # Transform r to z space\n    z = r_z(r)\n    # Compute standard error and critcal value in z\n    se = 1.0 / math.sqrt(n - 3)\n    z_crit = ss.norm.ppf(1 - alpha/2)\n\n    ## Compute CIs with transform to r\n    lo = z_r(z - z_crit * se)\n    hi = z_r(z + z_crit * se)\n    return (lo, hi)\n\ndef print_cis(corr_mat,var1, var2, idx1, idx2):\n    print('\\nFor ' + var1 + ' vs. ' + var2)\n    conf_ints = r_conf_int(corr_mat[idx1,idx2], 0.05, 1000)\n    print('Correlation = %4.3f with CI of %4.3f to %4.3f' % (corr_mat[idx1,idx2], conf_ints[0], conf_ints[1]))\n\ncorr_mat = np.array(corr_mat)\n\nprint_cis(corr_mat, 'sent', 'WC', 1, 0)\nprint_cis(corr_mat, 'sent', 'rating', 0, 2)\nprint_cis(corr_mat, 'sent', 'purchase', 0, 3)",
      "metadata": {},
      "execution_count": null,
      "outputs": []
    },
    {
      "cell_type": "markdown",
      "source": "You can see that the confidence intervals for correlations with sentiment are all small. It appears that all three correlations are significant.\n\nAlthough this is a short exercise, it is critically important. Not only\ncan you quickly see if a measure is valid, but you might also find a\nbetter measure. For example, if the product rating was correlating with\npurchase likelihood *better* than the sentiment measure, I would\nquestion the use of the sentiment measure for making decisions.\n___\nVocê pode ver que os intervalos de confiança para correlações com sentimento são todos pequenos. Parece que todas as três correlações são significativas.\n\nEmbora seja um exercício curto, é extremamente importante. Você não apenas pode ver rapidamente se uma medida é válida, mas também pode encontrar uma medida melhor. Por exemplo, se a avaliação do produto se correlacionasse com a probabilidade de compra melhor do que a medida de sentimento, eu questionaria o uso da medida de sentimento para tomar decisões.",
      "metadata": {}
    },
    {
      "cell_type": "code",
      "source": "",
      "metadata": {},
      "execution_count": null,
      "outputs": []
    }
  ]
}