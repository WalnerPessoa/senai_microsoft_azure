{
  "metadata": {
    "kernelspec": {
      "display_name": "Python 3",
      "language": "python",
      "name": "python3"
    },
    "language_info": {
      "mimetype": "text/x-python",
      "nbconvert_exporter": "python",
      "name": "python",
      "pygments_lexer": "ipython3",
      "version": "3.5.4",
      "file_extension": ".py",
      "codemirror_mode": {
        "version": 3,
        "name": "ipython"
      }
    }
  },
  "nbformat_minor": 2,
  "nbformat": 4,
  "cells": [
    {
      "cell_type": "markdown",
      "source": "Module 3, Lab 1 - Frequency Claims\n==================================\n\nIn this lab, we will examine how to analyze data for a frequency claim.\nA frequency claim is where the level of a single variable is reported.\n___\nMódulo 3, Laboratório 1 - Reivindicações de frequência\n======\n\nNeste laboratório, examinaremos como analisar dados para uma reivindicação de frequência. Uma reivindicação de frequência é onde o nível de uma única variável é relatado.\n___\nIn this example, you are analyzing data from a local coffee company. You\nwish to know how many coffee beverages are consumed by the average\ncustomer in a day. These customers are surveyed and the data are\nproduced. You load the data from a CSV file (in the datasets github folder for\nthis lab).\n\nThe packages are loaded as a first step. You can safely ignore any deprecation warning which may appear depending on the version of the `statsmodels` package being loaded. \n___\nNeste exemplo, você está analisando dados de uma empresa de café local. Você deseja saber quantas bebidas de café são consumidas pelo cliente médio em um dia. Esses clientes são pesquisados e os dados são produzidos. Você carrega os dados de um arquivo CSV (na pasta github dos conjuntos de dados deste laboratório).\n\nOs pacotes são carregados como uma primeira etapa. Você pode ignorar com segurança qualquer aviso de descontinuação que possa aparecer dependendo da versão do pacote statsmodels que está sendo carregada.",
      "metadata": {}
    },
    {
      "cell_type": "code",
      "source": "#### LOAD PACKAGES ####\n## Use inline magic command so plots appear in the data frame\n%matplotlib inline\n\n## Next the packages\nimport matplotlib.pyplot as plt\nimport pandas as pd\nimport numpy as np\nfrom scipy.stats import skew\nimport statsmodels.stats.api as sms",
      "metadata": {},
      "execution_count": null,
      "outputs": []
    },
    {
      "cell_type": "markdown",
      "source": "Next, we load our data as a Pandas data frame:\n___\nEm seguida, carregamos seus dados como um quadro de dados do Pandas:\n",
      "metadata": {}
    },
    {
      "cell_type": "code",
      "source": "#### LOAD DATA ####\ndat = pd.read_csv(\"datasets/cupsdat.csv\")",
      "metadata": {},
      "execution_count": null,
      "outputs": []
    },
    {
      "cell_type": "markdown",
      "source": "You inspect the data using the Pandas `columns` attribute and `head()` function:\n___\nVocê inspeciona os dados usando o atributo de colunas do Pandas e a função head ():",
      "metadata": {}
    },
    {
      "cell_type": "code",
      "source": "print(dat.columns)\n\ndat.head()",
      "metadata": {},
      "execution_count": null,
      "outputs": []
    },
    {
      "cell_type": "markdown",
      "source": "There is an ID variable called `Unnamed` and a variable indicating the number of\nbeverages named `count`.\n\nThe first thing to do is to explore the variable. The Pandas `describe()`\nmethod has many useful features.\n\n___\n\nExiste uma variável de identificação chamada Sem nome e uma variável indicando o número de bebidas nomeadas contagem.\n\nA primeira coisa a fazer é explorar a variável. O método Pandas descrevem () possui muitos recursos úteis.",
      "metadata": {}
    },
    {
      "cell_type": "code",
      "source": "dat['count'].describe()",
      "metadata": {},
      "execution_count": null,
      "outputs": []
    },
    {
      "cell_type": "markdown",
      "source": "Here we see that scores range from 0-7, with a median (50% quantile) of 2.\n___\nAqui vemos que as pontuações variam de 0 a 7, com uma mediana (50% quantil) de 2.\n___\n\n\nExploring Counts\n================\n\nWe can also use the `value_counts()` method on a Pandas series (single column of vector):\n___\nExploração de contagens\n===\nTambém podemos usar o método value_counts () em uma série do Pandas (coluna única do vetor):",
      "metadata": {}
    },
    {
      "cell_type": "code",
      "source": "dat['count'].value_counts()",
      "metadata": {},
      "execution_count": null,
      "outputs": []
    },
    {
      "cell_type": "markdown",
      "source": "This gives us a sense of the distribution. The values are in the left column and the counts in the right column. \n\nOften, stakeholders want percentages. This is easy to accomplish, provided you know how many responses you have. The number of rows in the data frame can be returned as the first value of the shape attribute:\n___\nIsso nos dá uma noção da distribuição. Os valores estão na coluna da esquerda e as contagens na coluna da direita.\n\nMuitas vezes, as partes interessadas querem porcentagens. Isso é fácil de realizar, desde que você saiba quantas respostas você tem. O número de linhas no quadro de dados pode ser retornado como o primeiro valor do atributo shape:\n",
      "metadata": {}
    },
    {
      "cell_type": "code",
      "source": "dat.shape[0]",
      "metadata": {},
      "execution_count": null,
      "outputs": []
    },
    {
      "cell_type": "markdown",
      "source": "Or, you could ask for the `len()` of the `dat$count` variable:\n___\n\nOu você pode pedir o len () da variável dat $ count:",
      "metadata": {}
    },
    {
      "cell_type": "code",
      "source": "len(dat['count'])",
      "metadata": {},
      "execution_count": null,
      "outputs": []
    },
    {
      "cell_type": "markdown",
      "source": "However, I would avoid these as there could be missing values in the data frame. Treating missing values in Pandas data frames is a bit complicated as there can be multiple ways missing values are coded. The simple general recipe for finding and treating missing values is:\n1. Determine how missing values are coded. They might be coded as `numpy.nan` (not a number), `numpy.inf` (infinity) or some other code.\n2. Convert all missing values to `numpy.nan` values.\n3. Use the Pandas `dropna()` method.   \n\nFollowing this recipe, the percentages of each value can be given by dividing each count by\nthe total is computed as shown.\n\n___\n\nNo entanto, eu os evitaria, pois poderia haver valores ausentes no quadro de dados. Tratar valores ausentes nos quadros de dados do Pandas é um pouco complicado, pois pode haver várias maneiras de codificar os valores ausentes. A receita geral simples para encontrar e tratar valores ausentes é:\n1. Determine como os valores ausentes são codificados. Eles podem ser codificados como numpy.nan (não um número), numpy.inf (infinito) ou algum outro código.\n2. Converta todos os valores ausentes em valores numpy.nan.\n3. Use o método Pandas dropna ().\n\nApós esta receita, as porcentagens de cada valor podem ser dadas dividindo-se cada contagem pelo total é calculado como mostrado.",
      "metadata": {}
    },
    {
      "cell_type": "code",
      "source": "## Remove rows with nan without making copy of the data frame\ndat.dropna(axis = 0, inplace = True) \n\n## Now get the counts into a data frame sorted by the number\ncount_frame = dat['count'].value_counts()\ncount_frame = pd.DataFrame({'number':count_frame.index, 'counts':count_frame}).sort_values(by = 'number')\n\n## Compute the percents for each number\nn = len(dat['count'])\ncount_frame['percents'] = [100* x/n for x in count_frame['counts']]\n\n## Print as a nice table\ncount_frame[['number', 'percents']]",
      "metadata": {},
      "execution_count": null,
      "outputs": []
    },
    {
      "cell_type": "markdown",
      "source": "Finally, it can sometimes be helpful to generate a cumulative\npercentage. This can be done with the `cumsum()` method:\n___\n\nFinalmente, às vezes pode ser útil gerar uma porcentagem cumulativa. Isso pode ser feito com o método cumsum ():",
      "metadata": {}
    },
    {
      "cell_type": "code",
      "source": "## Add a cumsum dat\ncount_frame['cumsums'] = count_frame['percents'].cumsum()\n## Print as a nice table\ncount_frame[['number', 'percents', 'cumsums']]",
      "metadata": {},
      "execution_count": null,
      "outputs": []
    },
    {
      "cell_type": "markdown",
      "source": "We see here easily that 60% of the sample has consumed 2 drinks per day\nor fewer. This is a very handy little chart.\n___\n\nVemos aqui facilmente que 60% da amostra consumiu 2 bebidas por dia ou menos. Este é um pequeno gráfico muito útil.\n___\n\nHistogram\n=========\n\nThe most common data visualization is a histogram:\n\n___\n\nHistograma\n===\nA visualização de dados mais comum é um histograma:",
      "metadata": {}
    },
    {
      "cell_type": "code",
      "source": "plt.hist(dat['count'])",
      "metadata": {},
      "execution_count": null,
      "outputs": []
    },
    {
      "cell_type": "markdown",
      "source": "![](M3_Lab1_-_Frequency_files/figure-markdown_strict/unnamed-chunk-12-1.png)\n\nWe see here that the most common score is 1 and that that data has considerable skew. But, notice there are gaps in the histogram bars. You know from the frequency table that there should be no gaps. \n\nThe problem with the above histogram is that the default number of bins was used. Using 8 bins (for the 8 possible count values) will give a more representative histogram. \n\n___ \n\nVemos aqui que a pontuação mais comum é 1 e que esses dados têm uma inclinação considerável. Mas observe que existem lacunas nas barras do histograma. Você sabe pela tabela de frequências que não deve haver falhas.\n\nO problema com o histograma acima é que o número padrão de posições foi usado. Usar 8 compartimentos (para os 8 possíveis valores de contagem) fornecerá um histograma mais representativo.",
      "metadata": {}
    },
    {
      "cell_type": "code",
      "source": "plt.hist(dat['count'], bins = 8)",
      "metadata": {},
      "execution_count": null,
      "outputs": []
    },
    {
      "cell_type": "markdown",
      "source": "![](M3_Lab1_-_Frequency_files/figure-markdown_strict/unnamed-chunk-13-1.png)\n\nThis looks both professional and more accurate. Changing plot properties can change your perception of data.\n\nTo make a better graph for a presentation you can add plot attributes, such as axis labels and a title:\n\n___\n\nParece profissional e mais preciso. Alterar as propriedades da plotagem pode alterar sua percepção dos dados.\n\nPara criar um gráfico melhor para uma apresentação, você pode adicionar atributos de plotagem, como rótulos de eixos e um título:\n",
      "metadata": {}
    },
    {
      "cell_type": "code",
      "source": "plt.hist(dat['count'], bins = 8)\nplt.title('Frequency of number of cups of coffee consumed')\nplt.xlabel('Cups of coffee per day')\nplt.ylabel('Frequency')",
      "metadata": {},
      "execution_count": null,
      "outputs": []
    },
    {
      "cell_type": "markdown",
      "source": "\nCentral Tendency\n================\n\nAssuming you want to provide a one-number summary, you can provide an\naverage. However, we see here given the skew that the mean will be\nbiased upwards.\n\nUsing the `skew()` function from the `scipy.stats` package, we can see this is\na modestly skewed distribution:\n\n___\n\n\nTendencia central\n====\n\nSupondo que você queira fornecer um resumo de um número, você pode fornecer uma média. No entanto, vemos aqui, dada a distorção de que a média será enviesada para cima.\n\nUsando a função skew () do pacote scipy.stats, podemos ver que esta é uma distribuição modestamente distorcida:",
      "metadata": {}
    },
    {
      "cell_type": "code",
      "source": "skew(dat['count'])",
      "metadata": {},
      "execution_count": null,
      "outputs": []
    },
    {
      "cell_type": "markdown",
      "source": "This is within acceptable range for many purposes (any analyses start to\nworry when skew reaches somewhere between 0.80-2.0). You can compute the mean and median of an array using the Numpy `mean()` and `median()` functions:\n___\nIsso está dentro da faixa aceitável para muitos propósitos (qualquer análise começa a se preocupar quando a inclinação atinge algo entre 0,80-2,0). Você pode calcular a média e a mediana de uma matriz usando as funções Numpy mean () e median ():",
      "metadata": {}
    },
    {
      "cell_type": "code",
      "source": "print(np.mean(dat['count']))\nprint(np.median(dat['count']))",
      "metadata": {},
      "execution_count": null,
      "outputs": []
    },
    {
      "cell_type": "markdown",
      "source": "Before you finish, you might want to put a confidence interval around\nthe mean. You can use the `CI()` command from the `Rmisc` package,\nwhich works well for analysis when you plan to analyze the mean:\n___\nAntes de terminar, você pode colocar um intervalo de confiança em torno da média. Você pode usar o comando CI () do pacote Rmisc, que funciona bem para análise quando planeja analisar a média:",
      "metadata": {}
    },
    {
      "cell_type": "code",
      "source": "sms.DescrStatsW(list(dat['count'])).tconfint_mean()",
      "metadata": {},
      "execution_count": null,
      "outputs": []
    },
    {
      "cell_type": "markdown",
      "source": "If you wished to provide a CI for a median, or if your data are\nproportions or some other format than these, there are many easy options\nthat can be found with a brief web search, similar to the above.\n\nConclusion\n==========\n\nIn this case, we can make a frequency claim: most people, on average\nconsume 1-2 cups of coffee per day.\n___\nSe você deseja fornecer um IC para uma mediana ou se seus dados são proporções ou algum outro formato além desses, existem muitas opções fáceis que podem ser encontradas com uma breve pesquisa na Web, semelhante à acima.\n\nConclusão\n====\nNesse caso, podemos fazer uma reivindicação de frequência: a maioria das pessoas consome, em média, 1-2 xícaras de café por dia.",
      "metadata": {}
    },
    {
      "cell_type": "code",
      "source": "",
      "metadata": {},
      "execution_count": null,
      "outputs": []
    }
  ]
}