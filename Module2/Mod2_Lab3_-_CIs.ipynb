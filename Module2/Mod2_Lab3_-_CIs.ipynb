{
  "metadata": {
    "kernelspec": {
      "display_name": "Python 3",
      "language": "python",
      "name": "python3"
    },
    "language_info": {
      "mimetype": "text/x-python",
      "nbconvert_exporter": "python",
      "name": "python",
      "file_extension": ".py",
      "version": "3.5.4",
      "pygments_lexer": "ipython3",
      "codemirror_mode": {
        "version": 3,
        "name": "ipython"
      }
    }
  },
  "nbformat_minor": 2,
  "nbformat": 4,
  "cells": [
    {
      "cell_type": "markdown",
      "source": "Module 2, Lab 3: Confidence Intervals\n=====================================\n\nThis lab provides a brief extension on the previous lab, pointing out\nsomething you may have missed in the results before. Be sure to have the\ndata from the previous lab open in your computer.\n___\nMódulo 2, Laboratório 3: Intervalos de confiança\n======================================\nEste laboratório fornece uma breve extensão do laboratório anterior, apontando algo que você pode ter perdido nos resultados anteriores. Certifique-se de ter os dados do laboratório anterior abertos no seu computador.\n___\nMoving Beyond *p* &lt; .05\n==========================\n\nIn the previous lab, we tested the null hypothesis. We specifically\nasked: \"what percentage of the time could you get your result if the\nnull were true?\" We called that percentage a *p*-value. The lower the\n*p*-value, the less easily it is that you could get that result if the\nnull were true. In other words, a low *p*-value means that the data and\nthe null are incompatible. Since we actually did get the data, we reject\nthe null. This is a useful way to test the null hypothesis, but it's not\nthe only way.\n___\nIndo além de p <0,05\n=======\nNo laboratório anterior, testamos a hipótese nula. Perguntamos especificamente: \"que porcentagem de vezes você poderia obter seu resultado se o nulo fosse verdadeiro?\" Chamamos essa porcentagem de valor-p. Quanto menor o valor-p, menos fácil é a obtenção desse resultado se o nulo for verdadeiro. Em outras palavras, um valor p baixo significa que os dados e o nulo são incompatíveis. Como realmente obtivemos os dados, rejeitamos o nulo. Essa é uma maneira útil de testar a hipótese nula, mas não é a única.\n___\nConsider one weakness of the procedure outlined above. The null\nhypothesis states that the sample result is *entirely* due to chance; in\nthe population the effect is completely absent (e.g., in the attitude\nexample in the previous lab, the null said that the average attitude was\nexactly zero, or *H*<sub>0</sub> : *μ* = 0, meaning that any non-zero\nresult observed in the sample was entirely due to chance). When we\nreject the null hypothesis, we are rejecting the premise that the\nresults are entirely due to chance. That's about it.\n___\nConsidere uma fraqueza do procedimento descrito acima. A hipótese nula afirma que o resultado da amostra é inteiramente devido ao acaso; na população, o efeito está completamente ausente (por exemplo, no exemplo de atitude no laboratório anterior, o nulo disse que a atitude média era exatamente zero, ou H0: μ = 0, significando que qualquer resultado diferente de zero observado na amostra era inteiramente devido ao acaso). Quando rejeitamos a hipótese nula, estamos rejeitando a premissa de que os resultados são inteiramente devidos ao acaso. É sobre isso.\n___\nIn other words, rejecting the null hypothesis tells you what the effect\nis *not* (i.e., not zero, not due to chance). You aren't saying what the\neffect *is.* If you want to estimate what is going on in the population,\nwe need to do more, to use our sample estimate as a starting point and\nadd some measure of uncertainty.\n___\nEm outras palavras, rejeitar a hipótese nula indica qual é o efeito (isto é, não é zero, não é por acaso). Você não está dizendo qual é o efeito. Se você deseja estimar o que está acontecendo na população, precisamos fazer mais, para usar nossa estimativa amostral como ponto de partida e adicionar alguma medida de incerteza.\n___\nConfidence Intervals\n====================\n\nThis is the goal of confidence intervals. A confidence interval simply\ntakes your sample result and puts it at the center of a ranged estimate.\nWe know that the sample result has error in it; it's an imperfect\nestimate of the population. However, we can estimate *how much error*\nand can use that to create a range around our sample estimate. I will\nshow you an example first, and then I will show you how it works.\n___\nIntervalos de confiança\n======================\nEsse é o objetivo dos intervalos de confiança. Um intervalo de confiança simplesmente pega o resultado da amostra e o coloca no centro de uma estimativa à distância. Sabemos que o resultado da amostra tem erro; é uma estimativa imperfeita da população. No entanto, podemos estimar quanto erro e podemos usar para criar um intervalo em torno de nossa estimativa de amostra. Mostrarei um exemplo primeiro e depois mostrarei como funciona.\n___\nLoad the `attitude` data from the previous lab (re-run the code from the\nprevious lab if you need). We observed a sample average attitude of 2.23\n(on a scale from -5 to +5):\n___\nCarregue os dados de atitude do laboratório anterior (execute novamente o código do laboratório anterior, se necessário). Observamos uma atitude média da amostra de 2,23 (em uma escala de -5 a +5):\n___",
      "metadata": {}
    },
    {
      "cell_type": "markdown",
      "source": "==> Nesse exemplo foi avalida as impressões das pessoas de um treinamento ministrado em um organização. Avaliamos atitudes em relação ao treinamento em um -5 (muito negativo) a +5 (muito positivo) na escala (zero = opinião neutra).",
      "metadata": {}
    },
    {
      "cell_type": "code",
      "source": "import pandas as pd\nimport numpy as np\nattitude = np.array(pd.read_csv('datasets/attitude.csv'))[:,1]\nnp.mean(attitude)",
      "metadata": {
        "trusted": true
      },
      "execution_count": 4,
      "outputs": [
        {
          "execution_count": 4,
          "output_type": "execute_result",
          "data": {
            "text/plain": "2.234095719379859"
          },
          "metadata": {}
        }
      ]
    },
    {
      "cell_type": "code",
      "source": "import numpy.random as nr\nnr.seed(4455)\nattitude1 = nr.normal(2.4, 2.0, 100)",
      "metadata": {
        "trusted": true
      },
      "execution_count": 1,
      "outputs": []
    },
    {
      "cell_type": "code",
      "source": "attitude1",
      "metadata": {
        "trusted": true
      },
      "execution_count": 2,
      "outputs": [
        {
          "execution_count": 2,
          "output_type": "execute_result",
          "data": {
            "text/plain": "array([ 2.72547816,  2.27983703,  5.83084565, -0.44489811,  0.82824052,\n        1.90427589,  0.58780919,  2.55743641,  2.40623647,  4.99400524,\n        1.84841211,  4.01113318,  3.8808433 ,  3.1779424 ,  2.7773903 ,\n        2.6103098 , -0.30322271,  6.35248193,  1.40390836,  1.79028052,\n        4.35232972,  0.6370288 ,  4.57765521,  2.27257143,  4.267818  ,\n        2.06583416,  2.28360577,  4.51498808, -2.18897451,  3.01553419,\n        2.92162781,  2.31462188,  4.16068404,  3.17662247,  0.97551838,\n       -1.00227689,  2.55291825,  0.42076463, -3.31622835,  3.10455414,\n        1.04512369, -1.66597311,  2.4472192 , -3.97666835,  4.10264328,\n       -2.70504152,  2.44366004,  0.86453116,  3.49791735,  1.88196717,\n        1.35062564,  3.60435449,  0.91416066, -0.67311684, -1.15475504,\n        2.67492725,  5.38785587,  2.05504176,  0.10718597,  4.30589155,\n        2.60046189,  3.0803482 ,  3.42120869,  2.85446113,  5.85484458,\n        2.50616495,  1.84794609, -0.17981694,  3.57856065,  0.25297234,\n        5.34003253, -0.3233354 ,  2.56027974,  3.66822369,  1.43717019,\n        4.03702337,  1.63444744,  1.30897797,  1.61515199,  3.42421384,\n        3.37044974,  1.73350809,  1.82419116,  4.50983428,  2.1622789 ,\n        6.64609819,  5.60644027,  2.65253879, -0.37067343,  4.38277015,\n        5.33129912, -0.05543942,  0.30891572,  2.3742266 ,  0.79161587,\n        1.07915524,  4.13686975,  4.50964909,  3.3891219 , -0.32610806])"
          },
          "metadata": {}
        }
      ]
    },
    {
      "cell_type": "code",
      "source": "attitude",
      "metadata": {
        "trusted": true
      },
      "execution_count": 5,
      "outputs": [
        {
          "execution_count": 5,
          "output_type": "execute_result",
          "data": {
            "text/plain": "array([ 2.72547816,  2.27983703,  5.83084565, -0.44489811,  0.82824052,\n        1.90427589,  0.58780919,  2.55743641,  2.40623647,  4.99400524,\n        1.84841211,  4.01113318,  3.8808433 ,  3.1779424 ,  2.7773903 ,\n        2.6103098 , -0.30322271,  6.35248193,  1.40390836,  1.79028052,\n        4.35232972,  0.6370288 ,  4.57765521,  2.27257143,  4.267818  ,\n        2.06583416,  2.28360577,  4.51498808, -2.18897451,  3.01553419,\n        2.92162781,  2.31462188,  4.16068404,  3.17662247,  0.97551838,\n       -1.00227689,  2.55291825,  0.42076463, -3.31622835,  3.10455414,\n        1.04512369, -1.66597311,  2.4472192 , -3.97666835,  4.10264328,\n       -2.70504152,  2.44366004,  0.86453116,  3.49791735,  1.88196717,\n        1.35062564,  3.60435449,  0.91416066, -0.67311684, -1.15475504,\n        2.67492725,  5.38785587,  2.05504176,  0.10718597,  4.30589155,\n        2.60046189,  3.0803482 ,  3.42120869,  2.85446113,  5.85484458,\n        2.50616495,  1.84794609, -0.17981694,  3.57856065,  0.25297234,\n        5.34003253, -0.3233354 ,  2.56027974,  3.66822369,  1.43717019,\n        4.03702337,  1.63444744,  1.30897797,  1.61515199,  3.42421384,\n        3.37044974,  1.73350809,  1.82419116,  4.50983428,  2.1622789 ,\n        6.64609819,  5.60644027,  2.65253879, -0.37067343,  4.38277015,\n        5.33129912, -0.05543942,  0.30891572,  2.3742266 ,  0.79161587,\n        1.07915524,  4.13686975,  4.50964909,  3.3891219 , -0.32610806])"
          },
          "metadata": {}
        }
      ]
    },
    {
      "cell_type": "code",
      "source": "np.mean(attitude1)",
      "metadata": {
        "trusted": true
      },
      "execution_count": 6,
      "outputs": [
        {
          "execution_count": 6,
          "output_type": "execute_result",
          "data": {
            "text/plain": "2.234095719379859"
          },
          "metadata": {}
        }
      ]
    },
    {
      "cell_type": "markdown",
      "source": "This was clearly in the positive range, and it was significant, meaning\nthat we could reject the null hypothesis that it was *zero* in the\npopulation (i.e., sample result a fluke due to chance).\n\nHowever, we can also say on the basis of our sample data with 95%\nconfidence that the population average is somewhere in the range from\n1.73 to 2.74. This is often written: \"95% CI \\[1.73, 2.74\\].\" Look back\nat the last lab: \n___\nIsso estava claramente na faixa positiva, e era significativo, o que significa que poderíamos rejeitar a hipótese nula de que era zero na população (ou seja, a amostra resulta de um acaso devido ao acaso).\n\nNo entanto, também podemos dizer, com base em nossos dados de amostra, com 95% de confiança, que a média da população está em algum lugar na faixa de 1,73 a 2,74. Isso geralmente é escrito: \"IC 95% [1,73, 2,74]\". Olhe para o último laboratório:\n___",
      "metadata": {}
    },
    {
      "cell_type": "code",
      "source": "from scipy import stats\ndef t_one_sample(samp, mu = 0.0, alpha = 0.05):\n    '''Function for two-sided one-sample t test'''\n    t_stat = stats.ttest_1samp(samp, mu)\n    scale = np.std(samp)\n    loc = np.mean(samp)\n    ci = stats.t.cdf(alpha/2, len(samp), loc=mu, scale=scale)\n    print('Results of one-sample two-sided t test')\n    print('Mean         = %4.3f' % loc)\n    print('t-Statistic  = %4.3f' % t_stat[0])\n    print('p-value      < %4.3e' % t_stat[1])\n    print('On degrees of freedom = %4d' % (len(samp) - 1))\n    print('Confidence Intervals for alpha =' + str(alpha))\n    print('Lower =  %4.3f Upper = %4.3f' % (loc - ci, loc + ci))\n    \nt_one_sample(attitude)    ",
      "metadata": {
        "trusted": true
      },
      "execution_count": 7,
      "outputs": [
        {
          "text": "Results of one-sample two-sided t test\nMean         = 2.234\nt-Statistic  = 10.725\np-value      < 2.881e-18\nOn degrees of freedom =   99\nConfidence Intervals for alpha =0.05\nLower =  1.729 Upper = 2.739\n",
          "name": "stdout",
          "output_type": "stream"
        }
      ]
    },
    {
      "cell_type": "markdown",
      "source": "Notice the confidence interval:\n\n`Lower       1.729`  \n`Upper       2.739`\n\nThis is **much** more useful than our *p* &lt; .05 finding. Think about\nit. *p* &lt; .05 tells us that we can reject the null hypothesis (which\nstated *μ* = 0). The 95% confidence interval tells you that it's\n*probably not zero* **and** that it's probably between 1.73 and 2.74. It\nboth rejects the null and tells you where the population value likely\nis. It's rejecting the null and giving you additional information.\n___\nObserve o intervalo de confiança:\n\n* Limite Inferior 1.729\n* Limite Superior 2.739\n\nIsso é muito mais útil do que nossa descoberta de p <0,05. Pense nisso. p <0,05 nos diz que podemos rejeitar a hipótese nula (que afirmou µ = 0). O intervalo de confiança de 95% indica que provavelmente não é zero e que provavelmente está entre 1,73 e 2,74. Ambos rejeitam o nulo e informa onde é provável o valor da população. Rejeita o nulo e fornece informações adicionais.\n___\nThe CI also tells you how precise our result is. The two bounds on the\nCI are close together, indicating I have a very good read on where the\npopulation mean is. On a -5 to +5 scale, the CI tells me we are very\nlikely in the \"mid-range positive\" territory on our attitude scale.\n\nConsider what would happen if the range were bigger. Imagine, for\nexample, that you saw this instead:\n___\n\nO IC também informa a precisão do resultado. Os dois limites do IC estão próximos, indicando que tenho uma leitura muito boa de onde está a média da população. Na escala de -5 a +5, o IC diz que é muito provável que esteja no território \"positivo de médio alcance\" em nossa escala de atitudes.\n\nConsidere o que aconteceria se o intervalo fosse maior. Imagine, por exemplo, que você viu isso:\n___\n\n`Low95CI        0.496`  \n`High95CI       4.092`\n\nOn our -5 to +5 attitude scale, this would be telling you that you are\n95% confident that the mean of the population is somewhere between .50\n(almost zero) and 4.09 (incredibly strongly positive). This tells us\nsomething (we are still sure it's in the positive range; i.e.,\nsignificant or not zero), but it tells you little else. It's almost\nuseless for decision making. Yes, people feel positive, on average.\nHowever, in this case, your result is so imprecise that you really can't\nsay much beyond \"it's not zero.\"\n___\n* `limite infeirior 95CI 0.496`\n* `limite superior 95CI 4.092`\n\nEm nossa escala de atitude de -5 a +5, isso significa que você está 95% confiante de que a média da população está entre 0,50 (quase zero) e 4,09 (incrivelmente fortemente positiva). Isso nos diz algo (ainda temos certeza de que está na faixa positiva; isto é, significativo ou não zero), mas diz pouco mais. É quase inútil para a tomada de decisões. Sim, as pessoas se sentem positivas, em média. No entanto, nesse caso, seu resultado é tão impreciso que você realmente não pode dizer muito além de \"não é zero\".\n___\nTherefore, I always advocate for confidence intervals. They are given to\nyou in almost all statistical output in any statistical or data science\ntool. They let you quantify exactly how much certainty you have in your\nresult.\n___\n\nPortanto, eu sempre defendo intervalos de confiança. Eles são fornecidos a você em quase toda a saída estatística em qualquer ferramenta estatística ou de ciência de dados. Eles permitem quantificar exatamente quanta certeza você tem em seu resultado.\n___\nWhere does this range come from? We start with the sample estimate and\nadd or subtract a margin of error. The margin of error, in turn,\nconsists of the standard error (discussed in the sampling lab)\nmultiplied by a scaling constant. For our mean, this looks as follows:\n___\nDe onde vem esse intervalo? Começamos com a estimativa da amostra e adicionamos ou subtraímos uma margem de erro. A margem de erro, por sua vez, consiste no erro padrão (discutido no laboratório de amostragem) multiplicado por uma constante de escala. Para nossa média, é o seguinte:\n___\n$$CI = \\bar{x} \\pm \\left (SE\\right )\\left (constant\\right )$$\n The purpose of the constant is to make the range big enough that you\nare 95% confident it contains the true population value. Recall that the\nstandard error (SE) tells you how much error you expect in a typical\nsample, or how much error you expect on average. However, that would not\ngive you a range that would engender 95% confidence. If you want the\nrange to be large enough **that it contains the population value 95% of\nthe time**, you need to add the scaling constant. (In case you've had\nsome statistics training: this constant, it turns out, is actually the\n\"critical value\" for the *t*-test --not discussed in this class, but you\nmay have learned it in a previous statistics course).\n___\nO objetivo da constante é tornar o intervalo grande o suficiente para que você tenha 95% de confiança de que ele contém o verdadeiro valor da população. Lembre-se de que o erro padrão (SE) informa quanto erro você espera em uma amostra típica ou quanto você espera, em média. No entanto, isso não forneceria um intervalo que geraria 95% de confiança. Se você deseja que o intervalo seja grande o suficiente para conter o valor da população em 95% do tempo, é necessário adicionar a constante de escala. (Caso você tenha recebido algum treinamento em estatística: essa constante, na verdade, é o \"valor crítico\" do teste t - não discutido nesta classe, mas você pode ter aprendido em um curso anterior de estatística) .",
      "metadata": {}
    },
    {
      "cell_type": "code",
      "source": "",
      "metadata": {},
      "execution_count": null,
      "outputs": []
    }
  ]
}