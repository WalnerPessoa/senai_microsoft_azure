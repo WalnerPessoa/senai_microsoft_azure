{
  "metadata": {
    "kernelspec": {
      "display_name": "Python 3",
      "language": "python",
      "name": "python3"
    },
    "language_info": {
      "mimetype": "text/x-python",
      "nbconvert_exporter": "python",
      "name": "python",
      "pygments_lexer": "ipython3",
      "version": "3.5.4",
      "file_extension": ".py",
      "codemirror_mode": {
        "version": 3,
        "name": "ipython"
      }
    }
  },
  "nbformat_minor": 2,
  "nbformat": 4,
  "cells": [
    {
      "cell_type": "markdown",
      "source": "Module 2, Lab 5 - Power 2 - Sample Size Planning Illustration\n=============================================================\n\nIn this lab, we will practice using the `tt_ind_solve_power` from the Python `statsmodels.stats.power` package for determining the minimum necessary sample size for a two-sample *t*-test design. I illustrate a real-life iterative project planning sequence so you can see how power planning can be integrated into a data-science research project.\n\nFirst, load the required software:\n___\nMódulo 2, Laboratório 5 - Potência 2 - Ilustração do planejamento do tamanho da amostra\n========\n\nNeste laboratório, praticaremos o uso do tt_ind_solve_power do pacote statsmodels.stats.power do Python para determinar o **tamanho mínimo de amostra** necessário para um projeto de teste t de duas amostras. Ilustro uma sequência de planejamento de projeto iterativo da vida real para que você possa ver como o planejamento de energia pode ser integrado a um projeto de pesquisa em ciência de dados.\n\nPrimeiro, carregue o software necessário:",
      "metadata": {}
    },
    {
      "cell_type": "code",
      "source": "from statsmodels.stats.power import tt_ind_solve_power",
      "metadata": {
        "trusted": true
      },
      "execution_count": null,
      "outputs": []
    },
    {
      "cell_type": "markdown",
      "source": "You wish to compare groups at two different locations in your\norganization to see if either group is more satisfied with their working\nconditions. You will be comparing the groups with a *t*-test, and you\ncare deeply about estimating the effect, even if it is small. Data will\nbe challenging to get, however, as you will have to get managers to ask\nemployees to return surveys. You need to determine the minimum necessary\nsample size to get adequate power.\n\nUsually, we start with our dream scenario. Let's ask for 90% power to\ndetect a very small effect size (*d* = .10). What sample size would be\nrequired?\n___\nVocê deseja comparar grupos em dois locais diferentes da sua organização para ver se um dos grupos está mais satisfeito com suas condições de trabalho. Você comparará os grupos com um teste t e se preocupa profundamente em estimar o efeito, mesmo que seja pequeno. Os dados serão difíceis de obter, no entanto, pois você precisará que os gerentes solicitem aos funcionários que retornem pesquisas. Você precisa determinar o tamanho mínimo de amostra necessário para obter energia adequada.\n\nNormalmente, começamos com o cenário dos nossos sonhos. Vamos pedir 90% de energia para detectar um tamanho de efeito muito pequeno (d = .10). Que tamanho de amostra seria necessário?",
      "metadata": {}
    },
    {
      "cell_type": "code",
      "source": "tt_ind_solve_power(effect_size=0.1, nobs1 = None, alpha=0.05, power=0.9, ratio=1, alternative='two-sided')",
      "metadata": {
        "trusted": true
      },
      "execution_count": 3,
      "outputs": [
        {
          "execution_count": 3,
          "output_type": "execute_result",
          "data": {
            "text/plain": "2102.444766799638"
          },
          "metadata": {}
        }
      ]
    },
    {
      "cell_type": "markdown",
      "source": "We see here that we need 2103 people per group, or 4206 people in total.\nKnowing the size of the organization, you know anything that size is\nlikely out of the question. You might be able to get away, you think\nwith collecting data from 500 participants without imposing too much on\nteam supervisors. So, you try again, this time with a more realistic 80%\npower and a mid-range-small effect of *d* = .25.\n___\nVemos aqui que precisamos de 2103 pessoas por grupo ou 4206 pessoas no total. Conhecendo o tamanho da organização, você sabe tudo o que provavelmente está fora de questão. Talvez você consiga se safar da coleta de dados de 500 participantes sem impor muito aos supervisores da equipe. Então, tente novamente, desta vez com uma potência de 80% mais realista e um efeito médio-pequeno de d = 0,25.",
      "metadata": {}
    },
    {
      "cell_type": "code",
      "source": "tt_ind_solve_power(effect_size=0.25, nobs1 = None, alpha=0.05, power=0.8, ratio=1, alternative='two-sided')",
      "metadata": {
        "trusted": true
      },
      "execution_count": 4,
      "outputs": [
        {
          "execution_count": 4,
          "output_type": "execute_result",
          "data": {
            "text/plain": "252.12750515434277"
          },
          "metadata": {}
        }
      ]
    },
    {
      "cell_type": "markdown",
      "source": "By pure happenstance, you get 253 per group (always round up to ensure\nsample size is adequate). You take this proposal to collect data from\n500 employees to your supervisor; after some discussion, you are told\nthat they will try to push for a large sample (on the basis of your\nrequest), but they've decided 400 is the maximum they are likely to be\nable to collect.\n\nNow, you change your strategy. 400 is close to 500, so it's likely to be\nsimilar. You now leave out effect size and input *n* = 200 (since it's\nper group) and a request for 80% power:\n___\nPor pura coincidência, você recebe 253 por grupo (sempre arredondar para garantir que o tamanho da amostra seja adequado). Você aceita esta proposta para coletar dados de 500 funcionários para seu supervisor; após alguma discussão, você será informado de que eles tentarão obter uma amostra grande (com base em sua solicitação), mas decidiram que 400 é o máximo que provavelmente serão capazes de coletar.\n\nAgora, você muda sua estratégia. 400 está perto de 500, então é provável que seja semelhante. Agora você deixa de fora o tamanho do efeito e insira n = 200 (já que é por grupo) e uma solicitação de 80% de energia:",
      "metadata": {}
    },
    {
      "cell_type": "code",
      "source": "tt_ind_solve_power(effect_size=None, nobs1 = 200, alpha=0.05, power=0.8, ratio=1, alternative='two-sided')",
      "metadata": {
        "trusted": true
      },
      "execution_count": 5,
      "outputs": [
        {
          "execution_count": 5,
          "output_type": "execute_result",
          "data": {
            "text/plain": "0.2808352254289386"
          },
          "metadata": {}
        }
      ]
    },
    {
      "cell_type": "markdown",
      "source": "You will now have 80% power to detect effects as small as *d* = .28,\nwhich is still a mid-range small effect.\n\nBefore you tell everyone that will still work with this suggested sample\nsize, you run a loop to estimate power at that sample size for various\neffect sizes (e.g., power would suffer if *d* were lower, but would it\nbe *that* terrible if *d* were, say, .10?)\n___\nAgora você terá 80% de poder para detectar efeitos tão pequenos quanto d = 0,28, o que ainda é um efeito pequeno de médio alcance.\n\nAntes de dizer a todos que ainda trabalharão com esse tamanho de amostra sugerido, execute um loop para estimar a potência nesse tamanho de amostra para vários tamanhos de efeito (por exemplo, a potência sofreria se d fosse menor, mas seria terrível se d fosse, digamos, .10?)",
      "metadata": {}
    },
    {
      "cell_type": "code",
      "source": "",
      "metadata": {},
      "execution_count": null,
      "outputs": []
    },
    {
      "cell_type": "code",
      "source": "d_values = [x/100.0 for x in range(5,55,5)] # Need range to 55 since Python is zero based indexing\nprint(d_values)\npowers = [tt_ind_solve_power(effect_size=d, nobs1 = 200, alpha=0.05, power=None, ratio=1, alternative='two-sided')\n            for d in d_values]\npowers",
      "metadata": {
        "trusted": true
      },
      "execution_count": 7,
      "outputs": [
        {
          "text": "[0.05, 0.1, 0.15, 0.2, 0.25, 0.3, 0.35, 0.4, 0.45, 0.5]\n",
          "name": "stdout",
          "output_type": "stream"
        },
        {
          "execution_count": 7,
          "output_type": "execute_result",
          "data": {
            "text/plain": "[0.07895538929133396,\n 0.1694809244542697,\n 0.3217470763276429,\n 0.5140816347005553,\n 0.7033332979408062,\n 0.8491491055035322,\n 0.9371867266873951,\n 0.9788403128661938,\n 0.9942830780694523,\n 0.9987688466795083]"
          },
          "metadata": {}
        }
      ]
    },
    {
      "cell_type": "code",
      "source": "",
      "metadata": {},
      "execution_count": null,
      "outputs": []
    },
    {
      "cell_type": "markdown",
      "source": "Looking at this chart, we see that power really starts to drop off\naround *d* = .20, hitting 51%. You discuss this with your team; they\nconclude they are ok with a 50% chance of declaring \"no difference\" if\neffect is *that* small. The study is run with 400 people and an\ninformative result is produced.\n___\nOlhando para este gráfico, vemos que a energia realmente começa a cair em torno de d = 0,20, atingindo 51%. Você discute isso com sua equipe; eles concluem que estão bem com 50% de chance de declarar \"nenhuma diferença\" se o efeito for tão pequeno. O estudo é realizado com 400 pessoas e um resultado informativo é produzido.\n___\nEpilogue\n========\n\nAt the very end, you hear that the original proposal had been to collect\n40 responses, 20 from each site. You smile to yourself, considering how\nyour power analysis likely saved the project. You run a power analysis\njust to see how bad the situation would be:\n\n___\nEpílogo\n======\n\nNo final, você ouve que a proposta original era coletar 40 respostas, 20 de cada site. Você sorri para si mesmo, considerando como sua análise de energia provavelmente salvou o projeto. Você executa uma análise de energia apenas para ver quão ruim seria a situação:",
      "metadata": {}
    },
    {
      "cell_type": "code",
      "source": "tt_ind_solve_power(effect_size=None, nobs1 = 20, alpha=0.05, power=0.8, ratio=1, alternative='two-sided')",
      "metadata": {
        "trusted": true
      },
      "execution_count": 8,
      "outputs": [
        {
          "execution_count": 8,
          "output_type": "execute_result",
          "data": {
            "text/plain": "0.9091290568795594"
          },
          "metadata": {}
        }
      ]
    },
    {
      "cell_type": "markdown",
      "source": "You see here that the smallest effect size for which you would have good\npower is well into the 'large' range. What if the effects were small?\nWhat are the odds the study would even be able to pick them up? You\nconsider the scenario of *d* = .25:\n___\nVocê vê aqui que o menor tamanho de efeito para o qual você teria uma boa potência está dentro da faixa 'grande'. E se os efeitos fossem pequenos? Quais são as chances de o estudo ser capaz de buscá-las? Você considera o cenário de d = 0,25:",
      "metadata": {}
    },
    {
      "cell_type": "code",
      "source": "tt_ind_solve_power(effect_size=.25, nobs1 = 20, alpha=0.05, power=None, ratio=1, alternative='two-sided')",
      "metadata": {
        "trusted": true
      },
      "execution_count": 9,
      "outputs": [
        {
          "execution_count": 9,
          "output_type": "execute_result",
          "data": {
            "text/plain": "0.12033536754525166"
          },
          "metadata": {}
        }
      ]
    },
    {
      "cell_type": "markdown",
      "source": "This study would have 12% power. Yikes. It's a good thing you performed\na power analysis.\n___\nEste estudo teria 12% de energia. Caramba. É bom que você tenha realizado uma análise de poder.",
      "metadata": {}
    },
    {
      "cell_type": "code",
      "source": "",
      "metadata": {},
      "execution_count": null,
      "outputs": []
    }
  ]
}