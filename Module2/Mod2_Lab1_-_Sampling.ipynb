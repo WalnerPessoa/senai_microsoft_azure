{
  "metadata": {
    "kernelspec": {
      "display_name": "Python 3",
      "language": "python",
      "name": "python3"
    },
    "language_info": {
      "mimetype": "text/x-python",
      "nbconvert_exporter": "python",
      "name": "python",
      "file_extension": ".py",
      "version": "3.5.4",
      "pygments_lexer": "ipython3",
      "codemirror_mode": {
        "version": 3,
        "name": "ipython"
      }
    }
  },
  "nbformat_minor": 2,
  "nbformat": 4,
  "cells": [
    {
      "cell_type": "markdown",
      "source": "Module 2, Lab 1 - Sampling\n==========================\n\nIn this lab, we will see how random samples (and the data analyses that\ncome from them) estimate the populations they come from.\n\nThis bears repeating: when you are working with a sample of data, you\nare using that as an estimate of the population that generated it.\n\nSo, how good are your estimations? In working with professionals and\nstudents alike, I tend to find that our human intuitions are often\nwrong. However, we can play with sampling ourselves and see the results.\n\nFirst, we should set the seed. A seed is set using the `seed` function from the Numpy.random Python package. This function initializes the random number generation on your computer as mine, so that we should get the same\nresults.",
      "metadata": {}
    },
    {
      "cell_type": "markdown",
      "source": "Módulo 2, Laboratório 1 - Amostragem\n==========================\n\nNeste laboratório, veremos como amostras aleatórias (e as análises de dados que\nprovêm deles) estimam as populações de onde provêm.\n\nIsso vale repetir: quando você está trabalhando com uma amostra de dados, você\nestão usando isso como uma estimativa da população que o gerou.\n\nEntão, quão boas são suas estimativas? Ao trabalhar com profissionais e\nestudantes, eu costumo achar que nossas intuições humanas são frequentemente\nerrado. No entanto, podemos brincar de amostragem e ver os resultados.\n\nPrimeiro, devemos definir a semente. Um seed é definido usando a função `seed` do pacote Numpy.random Python. Essa função inicializa a geração de números aleatórios no seu computador como a minha, para que possamos obter o mesmo\nresultados.",
      "metadata": {}
    },
    {
      "cell_type": "code",
      "source": "import numpy.random as nr\nnr.seed(12345)",
      "metadata": {
        "trusted": true
      },
      "execution_count": 39,
      "outputs": []
    },
    {
      "cell_type": "markdown",
      "source": "To generate a random sample that is normally distributed, we use the\n`normal(mean, std, n)`. For example, 50 responses from a population with a\nmean of 10 and standard deviation of 2 are:\n______\nPara gerar uma amostra aleatória normalmente distribuída, usamos o\n`normal (média, padrão, n)`. Por exemplo, 50 respostas de uma população com um\nmédia de 10 e desvio padrão de 2 são:\n\n`normal(mean, std, n)`",
      "metadata": {}
    },
    {
      "cell_type": "code",
      "source": "nr.normal(10, 2, 50)",
      "metadata": {
        "trusted": true
      },
      "execution_count": 40,
      "outputs": [
        {
          "execution_count": 40,
          "output_type": "execute_result",
          "data": {
            "text/plain": "array([ 9.59058468, 10.95788668,  8.96112257,  8.88853939, 13.93156115,\n       12.78681167, 10.18581575, 10.56349231, 11.53804514, 12.49286947,\n       12.01437872,  7.40755778, 10.54998327, 10.45782576, 12.70583367,\n       11.77285868,  5.99672538,  9.25631493, 13.33805062,  9.12286053,\n        8.92051711, 10.95397002, 16.49788784,  7.95754495,  8.84582539,\n       10.24824255, 10.60522712, 11.04754414, 10.00188056, 12.68761959,\n        8.57291203,  8.33769292,  5.25953669,  6.27847842,  8.2784852 ,\n       11.12029059,  7.46813102, 10.23965425,  7.8729751 , 10.66576543,\n        5.28116239,  9.60091409,  6.91600894,  8.05852818,  7.3859395 ,\n       10.57269949, 10.75596822,  8.49222693, 10.6625713 , 12.69948443])"
          },
          "metadata": {}
        }
      ]
    },
    {
      "cell_type": "markdown",
      "source": "A Numpy array with the Normally distributed values is returned. \n\nWe can also do something similar with a binomial distribution (data can\nhave two outcomes, such as \"like\" and \"don't like\" a product). Here is\nthe code which uses: `binomial(n, prob, size=1)`. The `prob` argument represents\nthe likelihood of getting a `1` as opposed to a `0`. The size argument\nchanges the nature of the distribution in a way I won't discuss here. If\nwe want to simulate 50 responses from a population in which 30% of\npeople like your product (`1`) and 70% do not (`0`), we use:\n\n_______\n\nUma matriz Numpy com os valores normalmente distribuídos é retornada.\n\nTambém podemos fazer algo semelhante com uma distribuição binomial (os dados podem\ntem dois resultados, como \"curtir\" e \"não curtir\" um produto). Aqui está\no código que usa: `binomial (n, prob, tamanho = 1)`. O argumento `prob` representa\na probabilidade de obter um `1` em oposição a um` 0`. O argumento do tamanho\nmuda a natureza da distribuição de uma maneira que não discutirei aqui. E se\nqueremos simular 50 respostas de uma população na qual 30% dos\npessoas como o seu produto (`1`) e 70% não (` 0`), usamos:\n\n`binomial(n, prob, size=1)",
      "metadata": {}
    },
    {
      "cell_type": "code",
      "source": "nr.seed(3344)\nnr.binomial(1, 0.3, 50)\n#len(nr.binomial(1, 0.3, 50))",
      "metadata": {
        "trusted": true
      },
      "execution_count": 41,
      "outputs": [
        {
          "execution_count": 41,
          "output_type": "execute_result",
          "data": {
            "text/plain": "array([0, 1, 0, 0, 0, 0, 0, 0, 0, 1, 1, 0, 0, 0, 0, 1, 1, 0, 1, 0, 0, 0,\n       0, 0, 0, 0, 0, 1, 0, 0, 1, 1, 0, 0, 0, 0, 1, 0, 0, 0, 0, 0, 0, 0,\n       0, 1, 0, 0, 1, 1])"
          },
          "metadata": {}
        }
      ]
    },
    {
      "cell_type": "markdown",
      "source": "In this case, each `1` represents someone who likes your product and\neach `0` represents someone who does not.\n\nThere are many distributions we can use with many shapes, including\ndistributions that have skew, distributions that can resemble counts of\nthings (e.g., only discrete numbers, most scores zero). We will stick\nwith these two for this lab.\n\n\"Like\" vs \"Dislike\"\n===================\n\nLet's try the example above in which each `1` represents someone who\nlikes your product and each `0` represents someone who does not.\n\nThis time, I will run the sample and save the result.",
      "metadata": {}
    },
    {
      "cell_type": "markdown",
      "source": "Nesse caso, cada `1` representa alguém que gosta do seu produto e\ncada \"0\" representa alguém que não.\n\nExistem muitas distribuições que podemos usar de várias formas, incluindo\ndistribuições que têm inclinação, distribuições que podem se parecer com contagens de\ncoisas (por exemplo, apenas números discretos, a maioria das pontuações zero). Vamos ficar\ncom esses dois para este laboratório.\n\n\"Gosto\" vs \"Não gosto\"\n===================\n\nVamos tentar o exemplo acima, no qual cada `1` representa alguém que\ngosta do seu produto e cada \"0\" representa alguém que não gosta.\n\nDesta vez, executarei a amostra e salvarei o resultado.",
      "metadata": {}
    },
    {
      "cell_type": "code",
      "source": "nr.seed(3344)\nsample1 = nr.binomial(1, 0.3, 50)",
      "metadata": {
        "trusted": true
      },
      "execution_count": 42,
      "outputs": []
    },
    {
      "cell_type": "markdown",
      "source": "Now we can examine how well our sample did. In this case we *know* the population value was 30%, because we specified that parameter when we ran the code. How close did it get to our true value of 30%? To answer this question execute the `itemfreq` function from the `scipy.stats` module.\n_______\nAgora podemos examinar o quão bem nossa amostra foi. Nesse caso, * sabemos * o valor da população era de 30%, porque especificamos esse parâmetro quando executamos o código. Quão perto chegou do nosso verdadeiro valor de 30%? Para responder a essa pergunta, execute a função `itemfreq` no módulo` scipy.stats`.\n",
      "metadata": {}
    },
    {
      "cell_type": "code",
      "source": "from scipy import stats\nimport numpy as np\n#print(stats.itemfreq(sample1))\nprint(np.unique(sample1,return_counts=True))",
      "metadata": {
        "trusted": true
      },
      "execution_count": 43,
      "outputs": [
        {
          "text": "(array([0, 1]), array([37, 13]))\n",
          "name": "stdout",
          "output_type": "stream"
        }
      ]
    },
    {
      "cell_type": "markdown",
      "source": "There are 13 likes and 37 dislikes. We can convert to\npercentages by diving by the sum of likes and dislikes:\n______\nExistem 13 curtidas e 37 não-curtidas. Podemos converter para\nporcentagens mergulhando pela soma de gostos e desgostos:",
      "metadata": {}
    },
    {
      "cell_type": "code",
      "source": "13.0/(13.0 + 37.0)",
      "metadata": {
        "trusted": true
      },
      "execution_count": 44,
      "outputs": [
        {
          "execution_count": 44,
          "output_type": "execute_result",
          "data": {
            "text/plain": "0.26"
          },
          "metadata": {}
        }
      ]
    },
    {
      "cell_type": "markdown",
      "source": "Our sample underestimated the number of people who like the product,\nreturning \"26%\" instead of 30%.\n\nBecause the data are coded `0` and `1`, we can also trick the math into\nreturning a proportion by using `mean()` from Numpy:\n___\nNossa amostra subestimou o número de pessoas que gostam do produto,\nretornando \"26%\" em vez de 30%.\n\nComo os dados são codificados como 0 e 1, também podemos enganar a matemática\nretornando uma proporção usando `mean ()` de Numpy:",
      "metadata": {}
    },
    {
      "cell_type": "code",
      "source": "import numpy as np\nnp.mean(sample1)",
      "metadata": {
        "trusted": true
      },
      "execution_count": 45,
      "outputs": [
        {
          "execution_count": 45,
          "output_type": "execute_result",
          "data": {
            "text/plain": "0.26"
          },
          "metadata": {}
        }
      ]
    },
    {
      "cell_type": "markdown",
      "source": "Let's try this several times. Every time I run the code, a random sample\nwill be collected, the proportion of people who like the product\ncalculated, and reported to you.\n___\nVamos tentar isso várias vezes. Toda vez que executo o código, uma amostra aleatória\nserão coletadas, a proporção de pessoas que gostam do produto\ncalculado e relatado a você.\n",
      "metadata": {}
    },
    {
      "cell_type": "code",
      "source": "print(np.mean(nr.binomial(1, 0.3, 50)))\nprint(np.mean(nr.binomial(1, 0.3, 50)))\nprint(np.mean(nr.binomial(1, 0.3, 50)))\nprint(np.mean(nr.binomial(1, 0.3, 50)))\nprint(np.mean(nr.binomial(1, 0.3, 50)))\nprint(np.mean(nr.binomial(1, 0.3, 50)))",
      "metadata": {
        "trusted": true
      },
      "execution_count": 46,
      "outputs": [
        {
          "text": "0.3\n0.28\n0.3\n0.28\n0.4\n0.26\n",
          "name": "stdout",
          "output_type": "stream"
        }
      ]
    },
    {
      "cell_type": "markdown",
      "source": "We see here that our samples are varying quite a bit. We can run many of\nthese by using a list comprehension. Let's try this 100 times. I assume you are\nfamiliar with list comprehensions in Python.\n___\nVemos aqui que nossas amostras estão variando bastante. Nós podemos executar muitos\nusando uma compreensão da lista. Vamos tentar isso 100 vezes. Eu presumo que você é\nfamiliarizado com a compreensão de listas em Python.",
      "metadata": {}
    },
    {
      "cell_type": "code",
      "source": "nr.seed(9977)\nresults1 = [np.mean(nr.binomial(1, 0.3, 50)) for _ in range(100)]\nprint(results1)",
      "metadata": {
        "trusted": true
      },
      "execution_count": 48,
      "outputs": [
        {
          "text": "[0.36, 0.28, 0.28, 0.26, 0.24, 0.28, 0.3, 0.22, 0.34, 0.14, 0.18, 0.24, 0.24, 0.38, 0.36, 0.34, 0.34, 0.32, 0.3, 0.28, 0.22, 0.32, 0.34, 0.34, 0.36, 0.36, 0.3, 0.26, 0.26, 0.32, 0.2, 0.2, 0.14, 0.34, 0.22, 0.34, 0.34, 0.22, 0.18, 0.22, 0.26, 0.36, 0.4, 0.24, 0.3, 0.42, 0.3, 0.22, 0.36, 0.32, 0.3, 0.24, 0.34, 0.26, 0.26, 0.36, 0.18, 0.34, 0.28, 0.28, 0.28, 0.32, 0.3, 0.34, 0.24, 0.32, 0.26, 0.26, 0.42, 0.18, 0.32, 0.3, 0.4, 0.42, 0.26, 0.3, 0.26, 0.38, 0.28, 0.4, 0.36, 0.22, 0.2, 0.16, 0.34, 0.38, 0.48, 0.3, 0.24, 0.36, 0.38, 0.16, 0.32, 0.34, 0.24, 0.26, 0.38, 0.3, 0.28, 0.22]\n",
          "name": "stdout",
          "output_type": "stream"
        }
      ]
    },
    {
      "cell_type": "markdown",
      "source": "We see considerable variance in these results. We can histogram them to\nsee it better:\n___\nVemos uma variação considerável nesses resultados. Podemos histograma-los para\nveja melhor:",
      "metadata": {}
    },
    {
      "cell_type": "code",
      "source": "# So the plot appears in line in the noteboook\n%matplotlib inline \n\nsample_mean1 = np.mean(results1)\nimport matplotlib.pyplot as plt\nplt.hist(results1)\nplt.vlines(0.3, 0.0, 28.0, color = 'red')\nplt.vlines(sample_mean, 0.0, 28.0, color = 'black')\nplt.xlabel('Results') \nplt.ylabel('Frequency')\nplt.title('Histogram of results')",
      "metadata": {
        "trusted": true
      },
      "execution_count": 49,
      "outputs": [
        {
          "execution_count": 49,
          "output_type": "execute_result",
          "data": {
            "text/plain": "Text(0.5,1,'Histogram of results')"
          },
          "metadata": {}
        },
        {
          "output_type": "display_data",
          "data": {
            "image/png": "[encoded data removed]",
            "text/plain": "<matplotlib.figure.Figure at 0x7f50d09c8908>"
          },
          "metadata": {}
        }
      ]
    },
    {
      "cell_type": "markdown",
      "source": "We see here that, on average, random samples are trustworthy--after all,\nthey are tending toward 30%. However, *individual* samples are\nless trustworthy. Some results are nearly as large as 135% or as low as\n50%. Yikes!\n\nWe can also subtract .30 from each score to re-score them as the degree\nof error in each sample.\n___\nVemos aqui que, em média, amostras aleatórias são confiáveis - afinal,\neles estão tendendo a 30%. No entanto, amostras * individuais * são\nmenos confiável. Alguns resultados são quase tão grandes quanto 135% ou tão baixos quanto\n50% Caramba!\n\nTambém podemos subtrair 0,30 de cada pontuação para classificá-las novamente como o grau\nde erro em cada amostra.",
      "metadata": {}
    },
    {
      "cell_type": "code",
      "source": "results_error = [round(x - 0.3, 2) for x in results]\nprint(results_error)",
      "metadata": {
        "trusted": true
      },
      "execution_count": 50,
      "outputs": [
        {
          "text": "[0.06, -0.02, -0.02, -0.04, -0.06, -0.02, 0.0, -0.08, 0.04, -0.16, -0.12, -0.06, -0.06, 0.08, 0.06, 0.04, 0.04, 0.02, 0.0, -0.02, -0.08, 0.02, 0.04, 0.04, 0.06, 0.06, 0.0, -0.04, -0.04, 0.02, -0.1, -0.1, -0.16, 0.04, -0.08, 0.04, 0.04, -0.08, -0.12, -0.08, -0.04, 0.06, 0.1, -0.06, 0.0, 0.12, 0.0, -0.08, 0.06, 0.02, 0.0, -0.06, 0.04, -0.04, -0.04, 0.06, -0.12, 0.04, -0.02, -0.02, -0.02, 0.02, 0.0, 0.04, -0.06, 0.02, -0.04, -0.04, 0.12, -0.12, 0.02, 0.0, 0.1, 0.12, -0.04, 0.0, -0.04, 0.08, -0.02, 0.1, 0.06, -0.08, -0.1, -0.14, 0.04, 0.08, 0.18, 0.0, -0.06, 0.06, 0.08, -0.14, 0.02, 0.04, -0.06, -0.04, 0.08, 0.0, -0.02, -0.08]\n",
          "name": "stdout",
          "output_type": "stream"
        }
      ]
    },
    {
      "cell_type": "markdown",
      "source": "We see here that most sample scores are within about 5% of the true\npopulation value value. Still, depending on what we want to do with the\ndata, that could be unacceptably large. The property of samples to\n\"mis-estimate\" the population is called sampling error and it is clearly\na big problem, leading to many a bad decision. The degree to which your\nindividual samples tend to \"mis-estimate\" the population (shown above:\n`results_error`) is something we want to estimate. Typically, we\nquantify this by taking the standard deviation of these errors. This is\ncalled \"standard error\", and it is a single number, how far \"off\" our\nsamples tend to be, on average:\n___\nVemos aqui que a maioria das pontuações da amostra está dentro de cerca de 5% do valor real\nvalor da população. Ainda assim, dependendo do que queremos fazer com o\ndados, que podem ser inaceitavelmente grandes. A propriedade das amostras para\n\"estimar incorretamente\" a população é chamada de erro de amostragem e é claramente\num grande problema, levando a muitas decisões ruins. O grau em que seu\namostras individuais tendem a \"estimar incorretamente\" a população (mostrada acima:\n`results_error`) é algo que queremos estimar. Normalmente, nós\nquantifique isso tomando o desvio padrão desses erros. Isto é\nchamado \"erro padrão\" e é um número único, a que distância \"nossa\"\nas amostras tendem a ser, em média:",
      "metadata": {}
    },
    {
      "cell_type": "code",
      "source": "np.std(results_error)",
      "metadata": {
        "trusted": true
      },
      "execution_count": 51,
      "outputs": [
        {
          "execution_count": 51,
          "output_type": "execute_result",
          "data": {
            "text/plain": "0.0684721841334129"
          },
          "metadata": {}
        }
      ]
    },
    {
      "cell_type": "markdown",
      "source": "Aha, so we see that the average sample is \"off\" from the population\nvalue by 6%. Some are \"off\" by more; some are \"off\" by less, but the\naverage sample is off by 6%. In other words, our standard error is 6%.\n\nFun fact: you can also estimate the standard error with a simple\nequation. For binomial data (`0` and `1` scores), the equation is:\n\n$$se = \\sqrt{\\frac{p\\left ( 1-p \\right )}{n-1}}$$\n Here, p is the percentage in the population. So, plugging in our\nvalues:\n___\nAh, então vemos que a amostra média está \"desligada\" da população\nvalor em 6%. Alguns estão \"desligados\" por mais; alguns estão \"desligados\" por menos, mas o\namostra média está fora de 6%. Em outras palavras, nosso erro padrão é de 6%.\n\nCuriosidade: você também pode estimar o erro padrão com um simples\nequação. Para dados binomiais (pontuações `0` e` 1`), a equação é:\n\n$$se = \\sqrt{\\frac{p\\left ( 1-p \\right )}{n-1}}$$\n  Aqui, p é a porcentagem na população. Então, conectando nossa\nvalores:",
      "metadata": {}
    },
    {
      "cell_type": "code",
      "source": "import math\nmath.sqrt((.30*(1-.3))/(50-1))",
      "metadata": {
        "trusted": true
      },
      "execution_count": 52,
      "outputs": [
        {
          "execution_count": 52,
          "output_type": "execute_result",
          "data": {
            "text/plain": "0.06546536707079771"
          },
          "metadata": {}
        }
      ]
    },
    {
      "cell_type": "markdown",
      "source": "This is convenient, because it tells us that we don't really need to run\nsimulations like the above to know how trustworthy our samples are. In\nfact, plugging in a reasonable guess for the population value and a\nsample size, we can know *before we run a study* how trustworthy a\ntypical sample will be.\n\nClearly, a large standard error is a bad thing. We can reduce this\nproblem by relying on a larger sample. For example, try using a sample\nof 700 in the equation for standard error shown previously:\n___\nIsso é conveniente, porque nos diz que realmente não precisamos executar\nsimulações como as acima para saber quão confiáveis são nossas amostras. No\nDe fato, adivinhar um palpite razoável para o valor da população e um\ntamanho da amostra, podemos saber * antes de executar um estudo * quão confiável é uma\namostra típica será.\n\nClaramente, um grande erro padrão é uma coisa ruim. Nós podemos reduzir isso\nproblema, contando com uma amostra maior. Por exemplo, tente usar uma amostra\nde 700 na equação para erro padrão mostrado anteriormente:",
      "metadata": {}
    },
    {
      "cell_type": "code",
      "source": "math.sqrt((.30*(1-.3))/(700-1))",
      "metadata": {
        "trusted": true
      },
      "execution_count": 53,
      "outputs": [
        {
          "execution_count": 53,
          "output_type": "execute_result",
          "data": {
            "text/plain": "0.01733289313846238"
          },
          "metadata": {}
        }
      ]
    },
    {
      "cell_type": "markdown",
      "source": "We see now that the typical sample will be off by only 1.7% from the\npopulation value. We can run a similar loop as done before and see this\nin action:\n___\nVemos agora que a amostra típica terá apenas 1,7% dp valor da população. Podemos executar um loop semelhante ao feito anteriormente e ver isso\nem ação:",
      "metadata": {}
    },
    {
      "cell_type": "code",
      "source": "nr.seed(4466)\n# results = [np.mean(nr.binomial(1, 0.3, 50)) for _ in range(100)]\n# mudando de 50 para 700\nresults = [np.mean(nr.binomial(1, 0.3, 700)) for _ in range(100)]\n\nprint(np.std(results))\n\nsample_mean = np.mean(results)\nimport matplotlib.pyplot as plt\nplt.hist(results)\nplt.hist(results1,alpha=0.5)\nplt.vlines(0.3, 0.0, 28.0, color = 'red')\nplt.vlines(sample_mean, 0.0, 28.0, color = 'black')\nplt.xlabel('Results') \nplt.ylabel('Frequency')\nplt.title('Histogram of results')",
      "metadata": {
        "trusted": true
      },
      "execution_count": 58,
      "outputs": [
        {
          "text": "0.0183828669123825\n",
          "name": "stdout",
          "output_type": "stream"
        },
        {
          "execution_count": 58,
          "output_type": "execute_result",
          "data": {
            "text/plain": "Text(0.5,1,'Histogram of results')"
          },
          "metadata": {}
        },
        {
          "output_type": "display_data",
          "data": {
            "image/png": "[encoded data removed]",
            "text/plain": "<matplotlib.figure.Figure at 0x7f50d08c72e8>"
          },
          "metadata": {}
        }
      ]
    },
    {
      "cell_type": "markdown",
      "source": "We see here, now that most results between 28.3% and 30.7%, with the typical\nresult being \"off\" by only 1.7%...exactly as our standard error equation\npredicted.\n\nEvery data situation has a standard error. The point is not to learn a\nlarge number of equations but rather to emphasize the following point:\nsamples (and the statistics they produce) are flawed estimates of the\npopulation. However, they become more and more accurate as the sample\nsizes they are based on increase.\n\nWe will discover, soon, that this will give us the concept of\nstatistical power. Large samples will produce results strong enough that\nwe can make meaningful statements about the population (in such\nsituations, we have \"good power\"), where small samples contain so much\nerror that we cannot say much meaningful about the population (\"weak\npower\").\n___\nVemos aqui, agora que a maioria dos resultados está entre 28,3% e 30,7%, com o resultado típico sendo \"desligado\" em apenas 1,7% ... exatamente como nossa equação de erro padrão previu.\n\nToda situação de dados tem um erro padrão. O objetivo não é aprender um grande número de equações, mas enfatizar o seguinte ponto: as amostras (e as estatísticas que elas produzem) são estimativas defeituosas da população. No entanto, eles se tornam cada vez mais precisas à medida que aumentam os tamanhos das amostras.\n\nDescobriremos, em breve, que isso nos dará o conceito de poder estatístico. Amostras grandes produzirão resultados fortes o suficiente para que possamos fazer declarações significativas sobre a população (nessas situações, temos \"bom poder\"), onde amostras pequenas contêm tanto erro que não podemos dizer muito sobre a população (\"poder fraco\" )",
      "metadata": {}
    },
    {
      "cell_type": "code",
      "source": "",
      "metadata": {},
      "execution_count": null,
      "outputs": []
    },
    {
      "cell_type": "code",
      "source": "",
      "metadata": {},
      "execution_count": null,
      "outputs": []
    }
  ]
}